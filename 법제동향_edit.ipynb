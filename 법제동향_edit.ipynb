{
 "cells": [
  {
   "cell_type": "markdown",
   "id": "e88604e2",
   "metadata": {},
   "source": [
    "# Selenium for 법무법인_태평양_법률자료"
   ]
  },
  {
   "cell_type": "markdown",
   "id": "120b3a2a",
   "metadata": {},
   "source": [
    "### Import Files"
   ]
  },
  {
   "cell_type": "code",
   "execution_count": 1,
   "id": "0a86f99d",
   "metadata": {},
   "outputs": [],
   "source": [
    "import requests\n",
    "import lxml.html\n",
    "import sqlite3 as sq3\n",
    "from pandas.io import sql\n",
    "import os\n",
    "import re\n",
    "import string\n",
    "import pandas as pd\n",
    "from tabulate import tabulate\n",
    "from selenium.webdriver import Chrome\n",
    "import time\n",
    "import warnings\n",
    "warnings.simplefilter(action='ignore', category=FutureWarning)\n",
    "from selenium import webdriver\n",
    "from selenium.webdriver import ActionChains\n",
    "import csv\n",
    "import numpy as np"
   ]
  },
  {
   "cell_type": "markdown",
   "id": "037dd106",
   "metadata": {},
   "source": [
    "## db methods\n",
    "- reads and writes data from and to db file"
   ]
  },
  {
   "cell_type": "code",
   "execution_count": 2,
   "id": "ed461de1",
   "metadata": {},
   "outputs": [],
   "source": [
    "def db_save(ARTICLE_LIST, db_name, table_name):\n",
    "    with sq3.connect(os.path.join('.',db_name)) as con: # sqlite DB 파일이 존재하지 않는 경우 파일생성\n",
    "        try:\n",
    "            ARTICLE_LIST.to_sql(name = table_name, con = con, index = False, if_exists='replace') \n",
    "            #if_exists : {'fail', 'replace', 'append'} default : fail\n",
    "        except Exception as e:\n",
    "            print(str(e))\n",
    "        print(len(ARTICLE_LIST), '건 저장완료..')"
   ]
  },
  {
   "cell_type": "code",
   "execution_count": 3,
   "id": "3b1886c8",
   "metadata": {},
   "outputs": [],
   "source": [
    "def db_select(db_name, table_name):\n",
    "    with sq3.connect(db_name) as con: \n",
    "        try:\n",
    "            query = 'SELECT * FROM {}'.format(table_name)\n",
    "            df = pd.read_sql(query, con = con)\n",
    "        except Exception as e:\n",
    "            print(str(e)) \n",
    "        return df"
   ]
  },
  {
   "cell_type": "markdown",
   "id": "198c7780",
   "metadata": {},
   "source": [
    "## reads the saved file and displays the result as a dataframe"
   ]
  },
  {
   "cell_type": "code",
   "execution_count": 4,
   "id": "72123ca4",
   "metadata": {
    "scrolled": false
   },
   "outputs": [],
   "source": [
    "document = db_select('법제동향DB.db','ARTICLE_LIST')"
   ]
  },
  {
   "cell_type": "code",
   "execution_count": 5,
   "id": "ef478c46",
   "metadata": {},
   "outputs": [
    {
     "data": {
      "text/html": [
       "<div>\n",
       "<style scoped>\n",
       "    .dataframe tbody tr th:only-of-type {\n",
       "        vertical-align: middle;\n",
       "    }\n",
       "\n",
       "    .dataframe tbody tr th {\n",
       "        vertical-align: top;\n",
       "    }\n",
       "\n",
       "    .dataframe thead th {\n",
       "        text-align: right;\n",
       "    }\n",
       "</style>\n",
       "<table border=\"1\" class=\"dataframe\">\n",
       "  <thead>\n",
       "    <tr style=\"text-align: right;\">\n",
       "      <th></th>\n",
       "      <th>제목</th>\n",
       "      <th>국가</th>\n",
       "      <th>등록일자</th>\n",
       "      <th>조회수</th>\n",
       "      <th>본문내용</th>\n",
       "    </tr>\n",
       "  </thead>\n",
       "  <tbody>\n",
       "    <tr>\n",
       "      <th>0</th>\n",
       "      <td>카자흐스탄 대통령, 2023년 최저임금 인상</td>\n",
       "      <td>카자흐스탄</td>\n",
       "      <td>2022.09.08.</td>\n",
       "      <td>95</td>\n",
       "      <td>카자흐스탄 입법동향 카자흐스탄 대통령 2023년 최저임금 인상  카심 조마르트 토카...</td>\n",
       "    </tr>\n",
       "    <tr>\n",
       "      <th>1</th>\n",
       "      <td>말레이시아, 개정 고용법 시행 연기</td>\n",
       "      <td>말레이시아</td>\n",
       "      <td>2022.09.05.</td>\n",
       "      <td>342</td>\n",
       "      <td>말레이시아 입법동향 말레이시아 개정 고용법 시행 연기 9월 1일 자로 시행 예정이었...</td>\n",
       "    </tr>\n",
       "    <tr>\n",
       "      <th>2</th>\n",
       "      <td>마카오, 원숭이두창을 《전염병 강제신고》 대상으로 지정</td>\n",
       "      <td>중국 마카오특별행정구</td>\n",
       "      <td>2022.08.01.</td>\n",
       "      <td>887</td>\n",
       "      <td>마카오 법제동향  마카오 원숭이두창을 전염병 강제신고 대상으로 지정  마카오 카지노...</td>\n",
       "    </tr>\n",
       "    <tr>\n",
       "      <th>3</th>\n",
       "      <td>형사미성년자에 대한 세계 각국의 연령 기준 및 관련 법령</td>\n",
       "      <td>World</td>\n",
       "      <td>2022.07.22.</td>\n",
       "      <td>1797</td>\n",
       "      <td>형사미성년자에 대한 세계 각국의 연령 기준 및 관련 법령 우리나라 형법제9조에 의하...</td>\n",
       "    </tr>\n",
       "    <tr>\n",
       "      <th>4</th>\n",
       "      <td>독일, 기업조직재편에 관한 유럽연합지침의 국내도입을 위한 법안 결의</td>\n",
       "      <td>독일</td>\n",
       "      <td>2022.07.14.</td>\n",
       "      <td>1194</td>\n",
       "      <td>독일 입법동향  독일 기업조직재편에 관한 유럽연합지침의 국내도입을 위한 법안 결의 ...</td>\n",
       "    </tr>\n",
       "    <tr>\n",
       "      <th>...</th>\n",
       "      <td>...</td>\n",
       "      <td>...</td>\n",
       "      <td>...</td>\n",
       "      <td>...</td>\n",
       "      <td>...</td>\n",
       "    </tr>\n",
       "    <tr>\n",
       "      <th>5995</th>\n",
       "      <td>이주법 공포</td>\n",
       "      <td>멕시코</td>\n",
       "      <td>2011.05.31.</td>\n",
       "      <td>1836</td>\n",
       "      <td>멕시코입법동향 이주법 공포 2011 0524  펠리페 칼데론 이노호사Felipe C...</td>\n",
       "    </tr>\n",
       "    <tr>\n",
       "      <th>5996</th>\n",
       "      <td>노선 택시 정비 방안 채택</td>\n",
       "      <td>우즈베키스탄</td>\n",
       "      <td>2011.05.31.</td>\n",
       "      <td>1652</td>\n",
       "      <td>우즈베키스탄 입법동향  노선 택시 정비 방안 채택 2011년 5월 31일 2012년...</td>\n",
       "    </tr>\n",
       "    <tr>\n",
       "      <th>5997</th>\n",
       "      <td>부동산업 면허증제 도입</td>\n",
       "      <td>우즈베키스탄</td>\n",
       "      <td>2011.05.31.</td>\n",
       "      <td>1523</td>\n",
       "      <td>우즈베키스탄 입법동향  부동산업 면허증제 도입 2011년 5월 31일  우즈베키스탄...</td>\n",
       "    </tr>\n",
       "    <tr>\n",
       "      <th>5998</th>\n",
       "      <td>벨라루스와 우즈베키스탄 국제 자동차 운송 허가 쿼터 동의</td>\n",
       "      <td>우즈베키스탄</td>\n",
       "      <td>2011.05.31.</td>\n",
       "      <td>1463</td>\n",
       "      <td>우즈베키스탄 입법동향   벨라루스와 우즈베키스탄 국제 자동차 운송 허가 쿼터 동의 ...</td>\n",
       "    </tr>\n",
       "    <tr>\n",
       "      <th>5999</th>\n",
       "      <td>주민들에게 정보를 은폐한 주택 관리회사의 행정 책임 부여 논의</td>\n",
       "      <td>러시아</td>\n",
       "      <td>2011.05.30.</td>\n",
       "      <td>989</td>\n",
       "      <td>러시아 입법동향  주민들에게 정보를 은폐한 주택 관리회사의 행정 책임 부여 논의 ...</td>\n",
       "    </tr>\n",
       "  </tbody>\n",
       "</table>\n",
       "<p>6000 rows × 5 columns</p>\n",
       "</div>"
      ],
      "text/plain": [
       "                                         제목           국가         등록일자   조회수  \\\n",
       "0                  카자흐스탄 대통령, 2023년 최저임금 인상        카자흐스탄  2022.09.08.    95   \n",
       "1                       말레이시아, 개정 고용법 시행 연기        말레이시아  2022.09.05.   342   \n",
       "2            마카오, 원숭이두창을 《전염병 강제신고》 대상으로 지정  중국 마카오특별행정구  2022.08.01.   887   \n",
       "3           형사미성년자에 대한 세계 각국의 연령 기준 및 관련 법령        World  2022.07.22.  1797   \n",
       "4     독일, 기업조직재편에 관한 유럽연합지침의 국내도입을 위한 법안 결의           독일  2022.07.14.  1194   \n",
       "...                                     ...          ...          ...   ...   \n",
       "5995                                 이주법 공포          멕시코  2011.05.31.  1836   \n",
       "5996                         노선 택시 정비 방안 채택       우즈베키스탄  2011.05.31.  1652   \n",
       "5997                           부동산업 면허증제 도입       우즈베키스탄  2011.05.31.  1523   \n",
       "5998        벨라루스와 우즈베키스탄 국제 자동차 운송 허가 쿼터 동의       우즈베키스탄  2011.05.31.  1463   \n",
       "5999     주민들에게 정보를 은폐한 주택 관리회사의 행정 책임 부여 논의          러시아  2011.05.30.   989   \n",
       "\n",
       "                                                   본문내용  \n",
       "0     카자흐스탄 입법동향 카자흐스탄 대통령 2023년 최저임금 인상  카심 조마르트 토카...  \n",
       "1     말레이시아 입법동향 말레이시아 개정 고용법 시행 연기 9월 1일 자로 시행 예정이었...  \n",
       "2     마카오 법제동향  마카오 원숭이두창을 전염병 강제신고 대상으로 지정  마카오 카지노...  \n",
       "3     형사미성년자에 대한 세계 각국의 연령 기준 및 관련 법령 우리나라 형법제9조에 의하...  \n",
       "4     독일 입법동향  독일 기업조직재편에 관한 유럽연합지침의 국내도입을 위한 법안 결의 ...  \n",
       "...                                                 ...  \n",
       "5995  멕시코입법동향 이주법 공포 2011 0524  펠리페 칼데론 이노호사Felipe C...  \n",
       "5996  우즈베키스탄 입법동향  노선 택시 정비 방안 채택 2011년 5월 31일 2012년...  \n",
       "5997  우즈베키스탄 입법동향  부동산업 면허증제 도입 2011년 5월 31일  우즈베키스탄...  \n",
       "5998  우즈베키스탄 입법동향   벨라루스와 우즈베키스탄 국제 자동차 운송 허가 쿼터 동의 ...  \n",
       "5999   러시아 입법동향  주민들에게 정보를 은폐한 주택 관리회사의 행정 책임 부여 논의 ...  \n",
       "\n",
       "[6000 rows x 5 columns]"
      ]
     },
     "execution_count": 5,
     "metadata": {},
     "output_type": "execute_result"
    }
   ],
   "source": [
    "document"
   ]
  },
  {
   "cell_type": "code",
   "execution_count": 6,
   "id": "8455f291",
   "metadata": {},
   "outputs": [
    {
     "data": {
      "text/plain": [
       "제목      False\n",
       "국가      False\n",
       "등록일자    False\n",
       "조회수     False\n",
       "본문내용    False\n",
       "dtype: bool"
      ]
     },
     "execution_count": 6,
     "metadata": {},
     "output_type": "execute_result"
    }
   ],
   "source": [
    "document.isna().any()"
   ]
  },
  {
   "cell_type": "markdown",
   "id": "0bbebfd6",
   "metadata": {},
   "source": [
    "## find rows with nan values\n",
    "edit the table"
   ]
  },
  {
   "cell_type": "code",
   "execution_count": 7,
   "id": "27797836",
   "metadata": {},
   "outputs": [],
   "source": [
    "df_null = document.loc[document.isna().any(axis=1)]\n",
    "#display(df_null)"
   ]
  },
  {
   "cell_type": "code",
   "execution_count": 8,
   "id": "e13a37d2",
   "metadata": {},
   "outputs": [
    {
     "name": "stdout",
     "output_type": "stream",
     "text": [
      "0\n"
     ]
    }
   ],
   "source": [
    "print(len(df_null))"
   ]
  },
  {
   "cell_type": "markdown",
   "id": "180bbe34",
   "metadata": {},
   "source": [
    "## remove_punc()\n",
    "- removes punctuations from string"
   ]
  },
  {
   "cell_type": "code",
   "execution_count": 9,
   "id": "44c1a177",
   "metadata": {},
   "outputs": [],
   "source": [
    "def remove_punc(data):\n",
    "\n",
    "    punc = '[!\"#$%&\\'()*+,-./:;<=>?[\\]^_`{|}~“”·「」△《》•‘’○※▷【】『』·-“”)I]'\n",
    "    new_string = re.sub(punc, '', data) # 특수문자 제거\n",
    "    new_string = re.sub('\\n', ' ', new_string) # newline 제거\n",
    "    new_string = re.sub('\\\\s+', ' ', new_string) # multiple spaces 제거\n",
    "    return new_string"
   ]
  }
 ],
 "metadata": {
  "kernelspec": {
   "display_name": "Python 3 (ipykernel)",
   "language": "python",
   "name": "python3"
  },
  "language_info": {
   "codemirror_mode": {
    "name": "ipython",
    "version": 3
   },
   "file_extension": ".py",
   "mimetype": "text/x-python",
   "name": "python",
   "nbconvert_exporter": "python",
   "pygments_lexer": "ipython3",
   "version": "3.9.12"
  }
 },
 "nbformat": 4,
 "nbformat_minor": 5
}
